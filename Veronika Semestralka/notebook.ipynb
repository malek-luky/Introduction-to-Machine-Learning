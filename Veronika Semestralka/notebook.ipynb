{
 "cells": [
  {
   "cell_type": "markdown",
   "metadata": {},
   "source": [
    "# Analýza dat pro předvídání mrtvice"
   ]
  },
  {
   "cell_type": "markdown",
   "metadata": {},
   "source": [
    "Semestrální práce se bude zabývat výrobou modelu, který bude na základě vstupních parametrů (pohlaví, věk, nemoci atd.) předvídat, zda u daného pacienta hrozí výskyt mrtvice. \n",
    "\n",
    "\n",
    "Originální dataset je k dispozici [zde](https://www.kaggle.com/datasets/fedesoriano/stroke-prediction-dataset)."
   ]
  },
  {
   "cell_type": "markdown",
   "metadata": {},
   "source": [
    "## Porozumění datům a doménové oblasti\n",
    "\n",
    "Podle Světové zdravotnické organizace (WHO) je mrtvice druhou nejčastější příčinou úmrtí na světě a je zodpovědná za přibližně 11 % všech úmrtí.\n",
    "\n",
    "Tento dataset slouží k předpovědi, zda pacientovi na základě vstupních parametrů jako je pohlaví, věk, různá onemocnění a kuřácký status hrozí výskyt mrtvice. Každá instance v datech poskytuje relevantní, anonymizované informace o konkrétním pacientovi. "
   ]
  },
  {
   "cell_type": "markdown",
   "metadata": {},
   "source": [
    "### Popis dat\n",
    "Dataset obsahuje celkem 5110 instancí s dvanácti sloupci.\n",
    "Konkrétně se jedná o tyto proměnné:\n",
    "\n",
    "* **id**: jedinečný identifikátor\n",
    "\n",
    "* **gender**: `{\"Male\", \"Female\", \"Other\"}` - *pohlaví pacienta*\n",
    "\n",
    "* **age**: `<0, ∞> - integer` - *věk pacienta*\n",
    "\n",
    "* **hypertension**: `{0, 1}` - *u pacienta byl zaznamenaný vysoký tlak*\n",
    "\n",
    "* **heart_disease**: `{0, 1}` - *pacient trpí srdečním onemocněním*\n",
    "\n",
    "* **ever_married**: `{\"No\", \"Yes\"}` - *zda je/byl pacient v manželském svazku*\n",
    "\n",
    "* **work_type**: `{\"children\", \"Govt_jov\", \"Never_worked\", \"Private\", \"Self-employed\"}` - *typ zaměstnání*\n",
    "\n",
    "* **Residence_type**: `{\"Rural\", \"Urban\"}` - *typ bydliště*\n",
    "\n",
    "* **avg_glucose_level**: `<0, ∞> - decimal` - *úroveň cukru v krvi*\n",
    "\n",
    "* **bmi**: `<0, ∞> - decimal` - *Body Mass Index*\n",
    "\n",
    "* **smoking_status**: `{\"formerly smoked\", \"never smoked\", \"smokes\", \"Unknown\"}` - *zda a v jakém množství pacient kouří/il cigarety*\n",
    "\n",
    "* **stroke**: `{0, 1}` - *zda u pacienta došlo k mrtvici*\n",
    "<br>\n",
    "<br>\n",
    "\n",
    "Jako cílová proměnná byl pro potřeby analýzy vybrán atribut **stroke**.\n"
   ]
  },
  {
   "cell_type": "markdown",
   "metadata": {},
   "source": [
    "## Nahrání dat\n"
   ]
  },
  {
   "cell_type": "code",
   "execution_count": 1,
   "metadata": {},
   "outputs": [],
   "source": [
    "import pandas as pd\n",
    "import numpy as np\n",
    "import matplotlib.pyplot as plt\n",
    "import seaborn as sns  # For plotting the dataset in seaborn\n",
    "from sklearn.preprocessing import LabelEncoder # To encode string as integers\n",
    "from sklearn.preprocessing import StandardScaler # Standardize the data while separing to train/test set\n",
    "from sklearn.model_selection import train_test_split\n",
    "from sklearn.metrics import accuracy_score # computes the success of chosen method\n",
    "\n",
    "# ML ALGORITHMS:\n",
    "from sklearn.neighbors import KNeighborsClassifier\n",
    "from sklearn.tree import DecisionTreeClassifier\n",
    "from sklearn import svm\n",
    "from sklearn.linear_model import LogisticRegression\n",
    "\n",
    "# FINAL REPORT\n",
    "from sklearn.metrics import confusion_matrix # helper function to create confussion matrix\n",
    "from sklearn.metrics import roc_curve, roc_auc_score # library for ploting ros curves\n",
    "from sklearn.metrics import classification_report # does soem magic, looks cool though"
   ]
  },
  {
   "cell_type": "markdown",
   "metadata": {},
   "source": [
    "### Průzkum dat\n"
   ]
  },
  {
   "cell_type": "code",
   "execution_count": 2,
   "metadata": {},
   "outputs": [
    {
     "data": {
      "text/html": [
       "<div>\n",
       "<style scoped>\n",
       "    .dataframe tbody tr th:only-of-type {\n",
       "        vertical-align: middle;\n",
       "    }\n",
       "\n",
       "    .dataframe tbody tr th {\n",
       "        vertical-align: top;\n",
       "    }\n",
       "\n",
       "    .dataframe thead th {\n",
       "        text-align: right;\n",
       "    }\n",
       "</style>\n",
       "<table border=\"1\" class=\"dataframe\">\n",
       "  <thead>\n",
       "    <tr style=\"text-align: right;\">\n",
       "      <th></th>\n",
       "      <th>id</th>\n",
       "      <th>gender</th>\n",
       "      <th>age</th>\n",
       "      <th>hypertension</th>\n",
       "      <th>heart_disease</th>\n",
       "      <th>ever_married</th>\n",
       "      <th>work_type</th>\n",
       "      <th>Residence_type</th>\n",
       "      <th>avg_glucose_level</th>\n",
       "      <th>bmi</th>\n",
       "      <th>smoking_status</th>\n",
       "      <th>stroke</th>\n",
       "    </tr>\n",
       "  </thead>\n",
       "  <tbody>\n",
       "    <tr>\n",
       "      <th>0</th>\n",
       "      <td>9046</td>\n",
       "      <td>Male</td>\n",
       "      <td>67.0</td>\n",
       "      <td>0</td>\n",
       "      <td>1</td>\n",
       "      <td>Yes</td>\n",
       "      <td>Private</td>\n",
       "      <td>Urban</td>\n",
       "      <td>228.69</td>\n",
       "      <td>36.6</td>\n",
       "      <td>formerly smoked</td>\n",
       "      <td>1</td>\n",
       "    </tr>\n",
       "    <tr>\n",
       "      <th>1</th>\n",
       "      <td>51676</td>\n",
       "      <td>Female</td>\n",
       "      <td>61.0</td>\n",
       "      <td>0</td>\n",
       "      <td>0</td>\n",
       "      <td>Yes</td>\n",
       "      <td>Self-employed</td>\n",
       "      <td>Rural</td>\n",
       "      <td>202.21</td>\n",
       "      <td>NaN</td>\n",
       "      <td>never smoked</td>\n",
       "      <td>1</td>\n",
       "    </tr>\n",
       "    <tr>\n",
       "      <th>2</th>\n",
       "      <td>31112</td>\n",
       "      <td>Male</td>\n",
       "      <td>80.0</td>\n",
       "      <td>0</td>\n",
       "      <td>1</td>\n",
       "      <td>Yes</td>\n",
       "      <td>Private</td>\n",
       "      <td>Rural</td>\n",
       "      <td>105.92</td>\n",
       "      <td>32.5</td>\n",
       "      <td>never smoked</td>\n",
       "      <td>1</td>\n",
       "    </tr>\n",
       "    <tr>\n",
       "      <th>3</th>\n",
       "      <td>60182</td>\n",
       "      <td>Female</td>\n",
       "      <td>49.0</td>\n",
       "      <td>0</td>\n",
       "      <td>0</td>\n",
       "      <td>Yes</td>\n",
       "      <td>Private</td>\n",
       "      <td>Urban</td>\n",
       "      <td>171.23</td>\n",
       "      <td>34.4</td>\n",
       "      <td>smokes</td>\n",
       "      <td>1</td>\n",
       "    </tr>\n",
       "    <tr>\n",
       "      <th>4</th>\n",
       "      <td>1665</td>\n",
       "      <td>Female</td>\n",
       "      <td>79.0</td>\n",
       "      <td>1</td>\n",
       "      <td>0</td>\n",
       "      <td>Yes</td>\n",
       "      <td>Self-employed</td>\n",
       "      <td>Rural</td>\n",
       "      <td>174.12</td>\n",
       "      <td>24.0</td>\n",
       "      <td>never smoked</td>\n",
       "      <td>1</td>\n",
       "    </tr>\n",
       "    <tr>\n",
       "      <th>...</th>\n",
       "      <td>...</td>\n",
       "      <td>...</td>\n",
       "      <td>...</td>\n",
       "      <td>...</td>\n",
       "      <td>...</td>\n",
       "      <td>...</td>\n",
       "      <td>...</td>\n",
       "      <td>...</td>\n",
       "      <td>...</td>\n",
       "      <td>...</td>\n",
       "      <td>...</td>\n",
       "      <td>...</td>\n",
       "    </tr>\n",
       "    <tr>\n",
       "      <th>5105</th>\n",
       "      <td>18234</td>\n",
       "      <td>Female</td>\n",
       "      <td>80.0</td>\n",
       "      <td>1</td>\n",
       "      <td>0</td>\n",
       "      <td>Yes</td>\n",
       "      <td>Private</td>\n",
       "      <td>Urban</td>\n",
       "      <td>83.75</td>\n",
       "      <td>NaN</td>\n",
       "      <td>never smoked</td>\n",
       "      <td>0</td>\n",
       "    </tr>\n",
       "    <tr>\n",
       "      <th>5106</th>\n",
       "      <td>44873</td>\n",
       "      <td>Female</td>\n",
       "      <td>81.0</td>\n",
       "      <td>0</td>\n",
       "      <td>0</td>\n",
       "      <td>Yes</td>\n",
       "      <td>Self-employed</td>\n",
       "      <td>Urban</td>\n",
       "      <td>125.20</td>\n",
       "      <td>40.0</td>\n",
       "      <td>never smoked</td>\n",
       "      <td>0</td>\n",
       "    </tr>\n",
       "    <tr>\n",
       "      <th>5107</th>\n",
       "      <td>19723</td>\n",
       "      <td>Female</td>\n",
       "      <td>35.0</td>\n",
       "      <td>0</td>\n",
       "      <td>0</td>\n",
       "      <td>Yes</td>\n",
       "      <td>Self-employed</td>\n",
       "      <td>Rural</td>\n",
       "      <td>82.99</td>\n",
       "      <td>30.6</td>\n",
       "      <td>never smoked</td>\n",
       "      <td>0</td>\n",
       "    </tr>\n",
       "    <tr>\n",
       "      <th>5108</th>\n",
       "      <td>37544</td>\n",
       "      <td>Male</td>\n",
       "      <td>51.0</td>\n",
       "      <td>0</td>\n",
       "      <td>0</td>\n",
       "      <td>Yes</td>\n",
       "      <td>Private</td>\n",
       "      <td>Rural</td>\n",
       "      <td>166.29</td>\n",
       "      <td>25.6</td>\n",
       "      <td>formerly smoked</td>\n",
       "      <td>0</td>\n",
       "    </tr>\n",
       "    <tr>\n",
       "      <th>5109</th>\n",
       "      <td>44679</td>\n",
       "      <td>Female</td>\n",
       "      <td>44.0</td>\n",
       "      <td>0</td>\n",
       "      <td>0</td>\n",
       "      <td>Yes</td>\n",
       "      <td>Govt_job</td>\n",
       "      <td>Urban</td>\n",
       "      <td>85.28</td>\n",
       "      <td>26.2</td>\n",
       "      <td>Unknown</td>\n",
       "      <td>0</td>\n",
       "    </tr>\n",
       "  </tbody>\n",
       "</table>\n",
       "<p>5110 rows × 12 columns</p>\n",
       "</div>"
      ],
      "text/plain": [
       "         id  gender   age  hypertension  heart_disease ever_married  \\\n",
       "0      9046    Male  67.0             0              1          Yes   \n",
       "1     51676  Female  61.0             0              0          Yes   \n",
       "2     31112    Male  80.0             0              1          Yes   \n",
       "3     60182  Female  49.0             0              0          Yes   \n",
       "4      1665  Female  79.0             1              0          Yes   \n",
       "...     ...     ...   ...           ...            ...          ...   \n",
       "5105  18234  Female  80.0             1              0          Yes   \n",
       "5106  44873  Female  81.0             0              0          Yes   \n",
       "5107  19723  Female  35.0             0              0          Yes   \n",
       "5108  37544    Male  51.0             0              0          Yes   \n",
       "5109  44679  Female  44.0             0              0          Yes   \n",
       "\n",
       "          work_type Residence_type  avg_glucose_level   bmi   smoking_status  \\\n",
       "0           Private          Urban             228.69  36.6  formerly smoked   \n",
       "1     Self-employed          Rural             202.21   NaN     never smoked   \n",
       "2           Private          Rural             105.92  32.5     never smoked   \n",
       "3           Private          Urban             171.23  34.4           smokes   \n",
       "4     Self-employed          Rural             174.12  24.0     never smoked   \n",
       "...             ...            ...                ...   ...              ...   \n",
       "5105        Private          Urban              83.75   NaN     never smoked   \n",
       "5106  Self-employed          Urban             125.20  40.0     never smoked   \n",
       "5107  Self-employed          Rural              82.99  30.6     never smoked   \n",
       "5108        Private          Rural             166.29  25.6  formerly smoked   \n",
       "5109       Govt_job          Urban              85.28  26.2          Unknown   \n",
       "\n",
       "      stroke  \n",
       "0          1  \n",
       "1          1  \n",
       "2          1  \n",
       "3          1  \n",
       "4          1  \n",
       "...      ...  \n",
       "5105       0  \n",
       "5106       0  \n",
       "5107       0  \n",
       "5108       0  \n",
       "5109       0  \n",
       "\n",
       "[5110 rows x 12 columns]"
      ]
     },
     "execution_count": 2,
     "metadata": {},
     "output_type": "execute_result"
    }
   ],
   "source": [
    "data = pd.read_csv(\"./healthcare-dataset-stroke-data.csv\")\n",
    "data"
   ]
  },
  {
   "cell_type": "markdown",
   "metadata": {},
   "source": [
    "K predikci nevyužijeme sloupec id, jelikož nám identifikační čísla přiřazená k jednotlivým osobám prognózu nezpřesní."
   ]
  },
  {
   "cell_type": "markdown",
   "metadata": {},
   "source": [
    "K predikci nevyužijeme sloupec id, jelikož nám identifikační čísla přiřazená k jednotlivým osobám prognózu nezpřesní."
   ]
  },
  {
   "cell_type": "code",
   "execution_count": 3,
   "metadata": {
    "scrolled": true
   },
   "outputs": [
    {
     "data": {
      "text/plain": [
       "(5110, 12)"
      ]
     },
     "execution_count": 3,
     "metadata": {},
     "output_type": "execute_result"
    }
   ],
   "source": [
    "data.shape"
   ]
  },
  {
   "cell_type": "markdown",
   "metadata": {},
   "source": [
    "Dataset obsahuje 5110 řádků a 12 sloupců"
   ]
  },
  {
   "cell_type": "code",
   "execution_count": 4,
   "metadata": {},
   "outputs": [
    {
     "name": "stdout",
     "output_type": "stream",
     "text": [
      "<class 'pandas.core.frame.DataFrame'>\n",
      "RangeIndex: 5110 entries, 0 to 5109\n",
      "Data columns (total 12 columns):\n",
      " #   Column             Non-Null Count  Dtype  \n",
      "---  ------             --------------  -----  \n",
      " 0   id                 5110 non-null   int64  \n",
      " 1   gender             5110 non-null   object \n",
      " 2   age                5110 non-null   float64\n",
      " 3   hypertension       5110 non-null   int64  \n",
      " 4   heart_disease      5110 non-null   int64  \n",
      " 5   ever_married       5110 non-null   object \n",
      " 6   work_type          5110 non-null   object \n",
      " 7   Residence_type     5110 non-null   object \n",
      " 8   avg_glucose_level  5110 non-null   float64\n",
      " 9   bmi                4909 non-null   float64\n",
      " 10  smoking_status     5110 non-null   object \n",
      " 11  stroke             5110 non-null   int64  \n",
      "dtypes: float64(3), int64(4), object(5)\n",
      "memory usage: 479.2+ KB\n"
     ]
    }
   ],
   "source": [
    "data.info()"
   ]
  },
  {
   "cell_type": "code",
   "execution_count": 5,
   "metadata": {},
   "outputs": [
    {
     "data": {
      "text/plain": [
       "Female    2994\n",
       "Male      2115\n",
       "Other        1\n",
       "Name: gender, dtype: int64"
      ]
     },
     "execution_count": 5,
     "metadata": {},
     "output_type": "execute_result"
    }
   ],
   "source": [
    "data[\"gender\"].value_counts()"
   ]
  },
  {
   "cell_type": "code",
   "execution_count": 6,
   "metadata": {
    "scrolled": true
   },
   "outputs": [
    {
     "data": {
      "text/plain": [
       "<bound method IndexOpsMixin.value_counts of 0         Male\n",
       "1       Female\n",
       "2         Male\n",
       "3       Female\n",
       "4       Female\n",
       "         ...  \n",
       "5105    Female\n",
       "5106    Female\n",
       "5107    Female\n",
       "5108      Male\n",
       "5109    Female\n",
       "Name: gender, Length: 5109, dtype: object>"
      ]
     },
     "execution_count": 6,
     "metadata": {},
     "output_type": "execute_result"
    }
   ],
   "source": [
    "data.drop(data.index[(data[\"gender\"] == \"Other\")],axis=0,inplace=True)\n",
    "data[\"gender\"].value_counts"
   ]
  },
  {
   "cell_type": "markdown",
   "metadata": {},
   "source": [
    "Jedinečné hodnota pohlaví \"Other\" pro nás není validní"
   ]
  },
  {
   "cell_type": "code",
   "execution_count": 7,
   "metadata": {},
   "outputs": [
    {
     "data": {
      "text/plain": [
       "78.00    102\n",
       "57.00     95\n",
       "52.00     90\n",
       "54.00     87\n",
       "51.00     86\n",
       "        ... \n",
       "1.40       3\n",
       "0.48       3\n",
       "0.16       3\n",
       "0.40       2\n",
       "0.08       2\n",
       "Name: age, Length: 104, dtype: int64"
      ]
     },
     "execution_count": 7,
     "metadata": {},
     "output_type": "execute_result"
    }
   ],
   "source": [
    "data[\"age\"].value_counts()"
   ]
  },
  {
   "cell_type": "markdown",
   "metadata": {},
   "source": [
    "U nízkého věku máme malý počet pozorování, proměnnou můžeme upravit. "
   ]
  },
  {
   "cell_type": "code",
   "execution_count": 8,
   "metadata": {},
   "outputs": [
    {
     "data": {
      "text/plain": [
       "0    4833\n",
       "1     276\n",
       "Name: heart_disease, dtype: int64"
      ]
     },
     "execution_count": 8,
     "metadata": {},
     "output_type": "execute_result"
    }
   ],
   "source": [
    "data[\"heart_disease\"].value_counts()"
   ]
  },
  {
   "cell_type": "code",
   "execution_count": 9,
   "metadata": {},
   "outputs": [
    {
     "data": {
      "text/plain": [
       "5.46095126247798"
      ]
     },
     "execution_count": 9,
     "metadata": {},
     "output_type": "execute_result"
    }
   ],
   "source": [
    "100*279/(4833+276)"
   ]
  },
  {
   "cell_type": "code",
   "execution_count": 10,
   "metadata": {},
   "outputs": [
    {
     "data": {
      "text/plain": [
       "0    4611\n",
       "1     498\n",
       "Name: hypertension, dtype: int64"
      ]
     },
     "execution_count": 10,
     "metadata": {},
     "output_type": "execute_result"
    }
   ],
   "source": [
    "data[\"hypertension\"].value_counts()"
   ]
  },
  {
   "cell_type": "code",
   "execution_count": 11,
   "metadata": {},
   "outputs": [
    {
     "data": {
      "text/plain": [
       "9.747504403992954"
      ]
     },
     "execution_count": 11,
     "metadata": {},
     "output_type": "execute_result"
    }
   ],
   "source": [
    "100*498/(4611+498)"
   ]
  },
  {
   "cell_type": "markdown",
   "metadata": {},
   "source": [
    "Mezi počtem pozitivních a negativních hodnot je velká diference. Prevalence (procento pozitivních hodnot z celku) je velmi nízká.  Osoby se srdeční vadou netvoří ani 6 % ze všech hodnot a osoby s hypertenzí ani 10 % hodnot, z čehož vyplývá, že je dataset nevyvážený."
   ]
  },
  {
   "cell_type": "code",
   "execution_count": 12,
   "metadata": {},
   "outputs": [
    {
     "data": {
      "text/plain": [
       "<AxesSubplot:>"
      ]
     },
     "execution_count": 12,
     "metadata": {},
     "output_type": "execute_result"
    },
    {
     "data": {
      "image/png": "[encoded data removed]",
      "text/plain": [
       "<Figure size 432x288 with 1 Axes>"
      ]
     },
     "metadata": {
      "needs_background": "light"
     },
     "output_type": "display_data"
    }
   ],
   "source": [
    "data.heart_disease.value_counts().plot.bar(rot = 0)"
   ]
  },
  {
   "cell_type": "markdown",
   "metadata": {},
   "source": [
    "Vidíme, že algoritmus, který by vše označil jako \"no stroke\" by měl velmi vysokou úspěšnost, a k tomuto výsledku by se schylovaly i veškeré ostatní algoritmy. Proto použijeme random oversampling, který nám zařídí, že neztratíme data, jak by tomu bylo při undersamplingu, a zvýšíme tím výslednou kvalitu výsledků."
   ]
  },
  {
   "cell_type": "markdown",
   "metadata": {},
   "source": [
    "Graf výše je taktéž důkazem nevyvážených dat"
   ]
  },
  {
   "cell_type": "code",
   "execution_count": 13,
   "metadata": {},
   "outputs": [
    {
     "data": {
      "text/plain": [
       "93.88     6\n",
       "91.68     5\n",
       "91.85     5\n",
       "83.16     5\n",
       "73.00     5\n",
       "         ..\n",
       "94.07     1\n",
       "111.93    1\n",
       "94.40     1\n",
       "95.57     1\n",
       "85.28     1\n",
       "Name: avg_glucose_level, Length: 3978, dtype: int64"
      ]
     },
     "execution_count": 13,
     "metadata": {},
     "output_type": "execute_result"
    }
   ],
   "source": [
    "data[\"avg_glucose_level\"].value_counts()"
   ]
  },
  {
   "cell_type": "markdown",
   "metadata": {},
   "source": [
    "Proměnná \"průměrná hodnota glukózy\" má 3978 unikátních hodnot. Bez úpravy sloupce se bude model chovat náhodně."
   ]
  },
  {
   "cell_type": "code",
   "execution_count": 14,
   "metadata": {},
   "outputs": [
    {
     "data": {
      "text/html": [
       "<div>\n",
       "<style scoped>\n",
       "    .dataframe tbody tr th:only-of-type {\n",
       "        vertical-align: middle;\n",
       "    }\n",
       "\n",
       "    .dataframe tbody tr th {\n",
       "        vertical-align: top;\n",
       "    }\n",
       "\n",
       "    .dataframe thead th {\n",
       "        text-align: right;\n",
       "    }\n",
       "</style>\n",
       "<table border=\"1\" class=\"dataframe\">\n",
       "  <thead>\n",
       "    <tr style=\"text-align: right;\">\n",
       "      <th></th>\n",
       "      <th>id</th>\n",
       "      <th>age</th>\n",
       "      <th>hypertension</th>\n",
       "      <th>heart_disease</th>\n",
       "      <th>avg_glucose_level</th>\n",
       "      <th>bmi</th>\n",
       "      <th>stroke</th>\n",
       "    </tr>\n",
       "  </thead>\n",
       "  <tbody>\n",
       "    <tr>\n",
       "      <th>count</th>\n",
       "      <td>5109.000000</td>\n",
       "      <td>5109.000000</td>\n",
       "      <td>5109.000000</td>\n",
       "      <td>5109.000000</td>\n",
       "      <td>5109.000000</td>\n",
       "      <td>4908.00000</td>\n",
       "      <td>5109.000000</td>\n",
       "    </tr>\n",
       "    <tr>\n",
       "      <th>mean</th>\n",
       "      <td>36513.985516</td>\n",
       "      <td>43.229986</td>\n",
       "      <td>0.097475</td>\n",
       "      <td>0.054022</td>\n",
       "      <td>106.140399</td>\n",
       "      <td>28.89456</td>\n",
       "      <td>0.048738</td>\n",
       "    </tr>\n",
       "    <tr>\n",
       "      <th>std</th>\n",
       "      <td>21162.008804</td>\n",
       "      <td>22.613575</td>\n",
       "      <td>0.296633</td>\n",
       "      <td>0.226084</td>\n",
       "      <td>45.285004</td>\n",
       "      <td>7.85432</td>\n",
       "      <td>0.215340</td>\n",
       "    </tr>\n",
       "    <tr>\n",
       "      <th>min</th>\n",
       "      <td>67.000000</td>\n",
       "      <td>0.080000</td>\n",
       "      <td>0.000000</td>\n",
       "      <td>0.000000</td>\n",
       "      <td>55.120000</td>\n",
       "      <td>10.30000</td>\n",
       "      <td>0.000000</td>\n",
       "    </tr>\n",
       "    <tr>\n",
       "      <th>25%</th>\n",
       "      <td>17740.000000</td>\n",
       "      <td>25.000000</td>\n",
       "      <td>0.000000</td>\n",
       "      <td>0.000000</td>\n",
       "      <td>77.240000</td>\n",
       "      <td>23.50000</td>\n",
       "      <td>0.000000</td>\n",
       "    </tr>\n",
       "    <tr>\n",
       "      <th>50%</th>\n",
       "      <td>36922.000000</td>\n",
       "      <td>45.000000</td>\n",
       "      <td>0.000000</td>\n",
       "      <td>0.000000</td>\n",
       "      <td>91.880000</td>\n",
       "      <td>28.10000</td>\n",
       "      <td>0.000000</td>\n",
       "    </tr>\n",
       "    <tr>\n",
       "      <th>75%</th>\n",
       "      <td>54643.000000</td>\n",
       "      <td>61.000000</td>\n",
       "      <td>0.000000</td>\n",
       "      <td>0.000000</td>\n",
       "      <td>114.090000</td>\n",
       "      <td>33.10000</td>\n",
       "      <td>0.000000</td>\n",
       "    </tr>\n",
       "    <tr>\n",
       "      <th>max</th>\n",
       "      <td>72940.000000</td>\n",
       "      <td>82.000000</td>\n",
       "      <td>1.000000</td>\n",
       "      <td>1.000000</td>\n",
       "      <td>271.740000</td>\n",
       "      <td>97.60000</td>\n",
       "      <td>1.000000</td>\n",
       "    </tr>\n",
       "  </tbody>\n",
       "</table>\n",
       "</div>"
      ],
      "text/plain": [
       "                 id          age  hypertension  heart_disease  \\\n",
       "count   5109.000000  5109.000000   5109.000000    5109.000000   \n",
       "mean   36513.985516    43.229986      0.097475       0.054022   \n",
       "std    21162.008804    22.613575      0.296633       0.226084   \n",
       "min       67.000000     0.080000      0.000000       0.000000   \n",
       "25%    17740.000000    25.000000      0.000000       0.000000   \n",
       "50%    36922.000000    45.000000      0.000000       0.000000   \n",
       "75%    54643.000000    61.000000      0.000000       0.000000   \n",
       "max    72940.000000    82.000000      1.000000       1.000000   \n",
       "\n",
       "       avg_glucose_level         bmi       stroke  \n",
       "count        5109.000000  4908.00000  5109.000000  \n",
       "mean          106.140399    28.89456     0.048738  \n",
       "std            45.285004     7.85432     0.215340  \n",
       "min            55.120000    10.30000     0.000000  \n",
       "25%            77.240000    23.50000     0.000000  \n",
       "50%            91.880000    28.10000     0.000000  \n",
       "75%           114.090000    33.10000     0.000000  \n",
       "max           271.740000    97.60000     1.000000  "
      ]
     },
     "execution_count": 14,
     "metadata": {},
     "output_type": "execute_result"
    }
   ],
   "source": [
    "data.describe()"
   ]
  },
  {
   "cell_type": "markdown",
   "metadata": {},
   "source": [
    "Bylo zjištěno, že v datasetu se nachází jeden sloupec s chybějícími hodnotami. Konkrétně se jedná o sloupec **bmi**, kde chybí celkem 201 hodnot."
   ]
  },
  {
   "cell_type": "code",
   "execution_count": 15,
   "metadata": {},
   "outputs": [
    {
     "data": {
      "text/plain": [
       "id                     0\n",
       "gender                 0\n",
       "age                    0\n",
       "hypertension           0\n",
       "heart_disease          0\n",
       "ever_married           0\n",
       "work_type              0\n",
       "Residence_type         0\n",
       "avg_glucose_level      0\n",
       "bmi                  201\n",
       "smoking_status         0\n",
       "stroke                 0\n",
       "dtype: int64"
      ]
     },
     "execution_count": 15,
     "metadata": {},
     "output_type": "execute_result"
    }
   ],
   "source": [
    "data.isna().sum()"
   ]
  },
  {
   "cell_type": "markdown",
   "metadata": {},
   "source": [
    "Počet lidí s diagnózou mrtvice"
   ]
  },
  {
   "cell_type": "code",
   "execution_count": 16,
   "metadata": {},
   "outputs": [
    {
     "data": {
      "text/plain": [
       "<AxesSubplot:>"
      ]
     },
     "execution_count": 16,
     "metadata": {},
     "output_type": "execute_result"
    },
    {
     "data": {
      "image/png": "[encoded data removed]",
      "text/plain": [
       "<Figure size 432x288 with 1 Axes>"
      ]
     },
     "metadata": {
      "needs_background": "light"
     },
     "output_type": "display_data"
    }
   ],
   "source": [
    "data.stroke.value_counts().plot.bar(rot = 0)"
   ]
  },
  {
   "cell_type": "markdown",
   "metadata": {},
   "source": [
    "### Vyobrazení korelace mezi proměnnými"
   ]
  },
  {
   "cell_type": "code",
   "execution_count": 17,
   "metadata": {
    "scrolled": true
   },
   "outputs": [
    {
     "data": {
      "image/png": "[encoded data removed]",
      "text/plain": [
       "<Figure size 1152x576 with 2 Axes>"
      ]
     },
     "metadata": {},
     "output_type": "display_data"
    }
   ],
   "source": [
    "import seaborn as sns\n",
    "sns.set_theme(style=\"darkgrid\")\n",
    "plt.figure(figsize=(16,8))\n",
    "sns.heatmap(data.corr(),cmap=\"Greens\");"
   ]
  },
  {
   "cell_type": "markdown",
   "metadata": {},
   "source": [
    "#### Uložení korelace mezi proměnnými"
   ]
  },
  {
   "cell_type": "code",
   "execution_count": 18,
   "metadata": {
    "scrolled": true
   },
   "outputs": [
    {
     "data": {
      "image/png": "[encoded data removed]",
      "text/plain": [
       "<Figure size 1080x648 with 2 Axes>"
      ]
     },
     "metadata": {},
     "output_type": "display_data"
    }
   ],
   "source": [
    "plt.figure(figsize=(15, 9))\n",
    "plt.title('Correlation matrix of data')\n",
    "cor = data.corr()\n",
    "hm1 = sns.heatmap(cor, annot=True, cmap='YlGnBu')\n",
    "plt.savefig('Correlation.pdf')"
   ]
  },
  {
   "cell_type": "markdown",
   "metadata": {},
   "source": [
    "## Předzpracování dat"
   ]
  },
  {
   "cell_type": "markdown",
   "metadata": {},
   "source": [
    "### Odstranění chybějících hodnot\n"
   ]
  },
  {
   "cell_type": "code",
   "execution_count": 19,
   "metadata": {},
   "outputs": [],
   "source": [
    "# tady se pak pri trenovani modelu musi vyzkouset, zda nebude lepsi radky s chybejicimi hodnotami uplne smazat,\n",
    "# pripadne tam misto prum. hodnoty dat treba nulu\n",
    "data.dropna(inplace=True)\n",
    "data.bmi = data.bmi.fillna(data.bmi.mean())"
   ]
  },
  {
   "cell_type": "markdown",
   "metadata": {
    "tags": []
   },
   "source": [
    "#### Extra: Tisk distribuce\n",
    "* zobrazení rozložení age, average glucose a bmi"
   ]
  },
  {
   "cell_type": "code",
   "execution_count": 20,
   "metadata": {},
   "outputs": [
    {
     "data": {
      "image/png": "[encoded data removed]",
      "text/plain": [
       "<Figure size 720x504 with 3 Axes>"
      ]
     },
     "metadata": {},
     "output_type": "display_data"
    }
   ],
   "source": [
    "plt.subplots(3, 1, figsize=(10, 7))\n",
    "plt.suptitle('Distribution')\n",
    "plt.subplot(3, 1, 1)\n",
    "sns.histplot(data['age'])\n",
    "plt.subplot(3, 1, 2)\n",
    "sns.histplot(data['avg_glucose_level'])\n",
    "plt.subplot(3, 1, 3)\n",
    "sns.histplot(data['bmi'])\n",
    "plt.savefig('Distribution.pdf')"
   ]
  },
  {
   "cell_type": "markdown",
   "metadata": {},
   "source": [
    "### Odvození nových sloupců\n",
    "\n",
    "Pro zvýšení přehlednosti výsledného modelu a k přesnění predikce jsme se rozhodli pomocí intervalů převést numerické sloupce **age**, **avg_glucose_level** a **bmi**\n",
    "na kategorické. Tím vznikly **sloupce age_cat**, **avg_glucose_level_cat** a **bmi_cat** s následujícími obory hodnot:\n",
    "\n",
    "* **age_cat**: `{\"Child\", \"Adult\", \"Elder\"}` - *Intervaly (<=18), (<19, 59>), (>=60)*\n",
    "\n",
    "* **avg_glucose_level_cat**: `{\"Normal\", \"Prediabetes\", \"Diabetes\"}` - *Intervaly dle [cdc.gov](https://www.cdc.gov/diabetes/basics/getting-tested.html)*\n",
    "\n",
    "* **bmi_cat**: `{\"Underweight\", \"Healthy Weight\", \"Overweight\", \"Obesity\"}` - *Intervaly dle [cdc.gov](https://www.cdc.gov/healthyweight/assessing/bmi/adult_bmi/index.html)*"
   ]
  },
  {
   "cell_type": "code",
   "execution_count": 21,
   "metadata": {},
   "outputs": [
    {
     "data": {
      "text/html": [
       "<div>\n",
       "<style scoped>\n",
       "    .dataframe tbody tr th:only-of-type {\n",
       "        vertical-align: middle;\n",
       "    }\n",
       "\n",
       "    .dataframe tbody tr th {\n",
       "        vertical-align: top;\n",
       "    }\n",
       "\n",
       "    .dataframe thead th {\n",
       "        text-align: right;\n",
       "    }\n",
       "</style>\n",
       "<table border=\"1\" class=\"dataframe\">\n",
       "  <thead>\n",
       "    <tr style=\"text-align: right;\">\n",
       "      <th></th>\n",
       "      <th>id</th>\n",
       "      <th>gender</th>\n",
       "      <th>age</th>\n",
       "      <th>hypertension</th>\n",
       "      <th>heart_disease</th>\n",
       "      <th>ever_married</th>\n",
       "      <th>work_type</th>\n",
       "      <th>Residence_type</th>\n",
       "      <th>avg_glucose_level</th>\n",
       "      <th>bmi</th>\n",
       "      <th>smoking_status</th>\n",
       "      <th>stroke</th>\n",
       "      <th>age_cat</th>\n",
       "      <th>avg_glucose_level_cat</th>\n",
       "      <th>bmi_cat</th>\n",
       "    </tr>\n",
       "  </thead>\n",
       "  <tbody>\n",
       "    <tr>\n",
       "      <th>0</th>\n",
       "      <td>9046</td>\n",
       "      <td>Male</td>\n",
       "      <td>67.0</td>\n",
       "      <td>0</td>\n",
       "      <td>1</td>\n",
       "      <td>Yes</td>\n",
       "      <td>Private</td>\n",
       "      <td>Urban</td>\n",
       "      <td>228.69</td>\n",
       "      <td>36.6</td>\n",
       "      <td>formerly smoked</td>\n",
       "      <td>1</td>\n",
       "      <td>Elder</td>\n",
       "      <td>Diabetes</td>\n",
       "      <td>Obesity</td>\n",
       "    </tr>\n",
       "    <tr>\n",
       "      <th>2</th>\n",
       "      <td>31112</td>\n",
       "      <td>Male</td>\n",
       "      <td>80.0</td>\n",
       "      <td>0</td>\n",
       "      <td>1</td>\n",
       "      <td>Yes</td>\n",
       "      <td>Private</td>\n",
       "      <td>Rural</td>\n",
       "      <td>105.92</td>\n",
       "      <td>32.5</td>\n",
       "      <td>never smoked</td>\n",
       "      <td>1</td>\n",
       "      <td>Elder</td>\n",
       "      <td>Normal</td>\n",
       "      <td>Obesity</td>\n",
       "    </tr>\n",
       "    <tr>\n",
       "      <th>3</th>\n",
       "      <td>60182</td>\n",
       "      <td>Female</td>\n",
       "      <td>49.0</td>\n",
       "      <td>0</td>\n",
       "      <td>0</td>\n",
       "      <td>Yes</td>\n",
       "      <td>Private</td>\n",
       "      <td>Urban</td>\n",
       "      <td>171.23</td>\n",
       "      <td>34.4</td>\n",
       "      <td>smokes</td>\n",
       "      <td>1</td>\n",
       "      <td>Adult</td>\n",
       "      <td>Prediabetes</td>\n",
       "      <td>Obesity</td>\n",
       "    </tr>\n",
       "    <tr>\n",
       "      <th>4</th>\n",
       "      <td>1665</td>\n",
       "      <td>Female</td>\n",
       "      <td>79.0</td>\n",
       "      <td>1</td>\n",
       "      <td>0</td>\n",
       "      <td>Yes</td>\n",
       "      <td>Self-employed</td>\n",
       "      <td>Rural</td>\n",
       "      <td>174.12</td>\n",
       "      <td>24.0</td>\n",
       "      <td>never smoked</td>\n",
       "      <td>1</td>\n",
       "      <td>Elder</td>\n",
       "      <td>Prediabetes</td>\n",
       "      <td>Healthy Weight</td>\n",
       "    </tr>\n",
       "    <tr>\n",
       "      <th>5</th>\n",
       "      <td>56669</td>\n",
       "      <td>Male</td>\n",
       "      <td>81.0</td>\n",
       "      <td>0</td>\n",
       "      <td>0</td>\n",
       "      <td>Yes</td>\n",
       "      <td>Private</td>\n",
       "      <td>Urban</td>\n",
       "      <td>186.21</td>\n",
       "      <td>29.0</td>\n",
       "      <td>formerly smoked</td>\n",
       "      <td>1</td>\n",
       "      <td>Elder</td>\n",
       "      <td>Prediabetes</td>\n",
       "      <td>Overweight</td>\n",
       "    </tr>\n",
       "  </tbody>\n",
       "</table>\n",
       "</div>"
      ],
      "text/plain": [
       "      id  gender   age  hypertension  heart_disease ever_married  \\\n",
       "0   9046    Male  67.0             0              1          Yes   \n",
       "2  31112    Male  80.0             0              1          Yes   \n",
       "3  60182  Female  49.0             0              0          Yes   \n",
       "4   1665  Female  79.0             1              0          Yes   \n",
       "5  56669    Male  81.0             0              0          Yes   \n",
       "\n",
       "       work_type Residence_type  avg_glucose_level   bmi   smoking_status  \\\n",
       "0        Private          Urban             228.69  36.6  formerly smoked   \n",
       "2        Private          Rural             105.92  32.5     never smoked   \n",
       "3        Private          Urban             171.23  34.4           smokes   \n",
       "4  Self-employed          Rural             174.12  24.0     never smoked   \n",
       "5        Private          Urban             186.21  29.0  formerly smoked   \n",
       "\n",
       "   stroke age_cat avg_glucose_level_cat         bmi_cat  \n",
       "0       1   Elder              Diabetes         Obesity  \n",
       "2       1   Elder                Normal         Obesity  \n",
       "3       1   Adult           Prediabetes         Obesity  \n",
       "4       1   Elder           Prediabetes  Healthy Weight  \n",
       "5       1   Elder           Prediabetes      Overweight  "
      ]
     },
     "execution_count": 21,
     "metadata": {},
     "output_type": "execute_result"
    }
   ],
   "source": [
    "data[\"age_cat\"] = pd.cut(x=data[\"age\"], bins=[0, 18, 59, np.inf], labels=[\"Child\", \"Adult\", \"Elder\"])\n",
    "data[\"avg_glucose_level_cat\"] = pd.cut(x=data[\"avg_glucose_level\"], bins=[0, 140, 199, np.inf], labels=[\"Normal\", \"Prediabetes\", \"Diabetes\"])\n",
    "data[\"bmi_cat\"] = pd.cut(x=data[\"bmi\"], bins=[0, 18.5, 24.9, 29.9, np.inf], labels=[\"Underweight\", \"Healthy Weight\", \"Overweight\", \"Obesity\"])\n",
    "data.head()"
   ]
  },
  {
   "cell_type": "markdown",
   "metadata": {},
   "source": [
    "### Odstranění nepotřebných sloupců\n",
    "\n",
    "Sloupec **id** je jedinečný identifikátor, který ze své podstaty nemůže mít vliv na hodnotu cílové proměnné.\n",
    "\n",
    "Sloupce **age**, **avg_glucose_level** a **bmi** jsou nyní zastoupeny jejich kategoriální variantou a nejsou již v datasetu potřeba.\n",
    "\n",
    "Z těchto důvodů jsme tyto sloupce odstranili"
   ]
  },
  {
   "cell_type": "code",
   "execution_count": 22,
   "metadata": {},
   "outputs": [
    {
     "data": {
      "text/html": [
       "<div>\n",
       "<style scoped>\n",
       "    .dataframe tbody tr th:only-of-type {\n",
       "        vertical-align: middle;\n",
       "    }\n",
       "\n",
       "    .dataframe tbody tr th {\n",
       "        vertical-align: top;\n",
       "    }\n",
       "\n",
       "    .dataframe thead th {\n",
       "        text-align: right;\n",
       "    }\n",
       "</style>\n",
       "<table border=\"1\" class=\"dataframe\">\n",
       "  <thead>\n",
       "    <tr style=\"text-align: right;\">\n",
       "      <th></th>\n",
       "      <th>gender</th>\n",
       "      <th>hypertension</th>\n",
       "      <th>heart_disease</th>\n",
       "      <th>ever_married</th>\n",
       "      <th>work_type</th>\n",
       "      <th>Residence_type</th>\n",
       "      <th>smoking_status</th>\n",
       "      <th>stroke</th>\n",
       "      <th>age_cat</th>\n",
       "      <th>avg_glucose_level_cat</th>\n",
       "      <th>bmi_cat</th>\n",
       "    </tr>\n",
       "  </thead>\n",
       "  <tbody>\n",
       "    <tr>\n",
       "      <th>0</th>\n",
       "      <td>Male</td>\n",
       "      <td>0</td>\n",
       "      <td>1</td>\n",
       "      <td>Yes</td>\n",
       "      <td>Private</td>\n",
       "      <td>Urban</td>\n",
       "      <td>formerly smoked</td>\n",
       "      <td>1</td>\n",
       "      <td>Elder</td>\n",
       "      <td>Diabetes</td>\n",
       "      <td>Obesity</td>\n",
       "    </tr>\n",
       "    <tr>\n",
       "      <th>2</th>\n",
       "      <td>Male</td>\n",
       "      <td>0</td>\n",
       "      <td>1</td>\n",
       "      <td>Yes</td>\n",
       "      <td>Private</td>\n",
       "      <td>Rural</td>\n",
       "      <td>never smoked</td>\n",
       "      <td>1</td>\n",
       "      <td>Elder</td>\n",
       "      <td>Normal</td>\n",
       "      <td>Obesity</td>\n",
       "    </tr>\n",
       "    <tr>\n",
       "      <th>3</th>\n",
       "      <td>Female</td>\n",
       "      <td>0</td>\n",
       "      <td>0</td>\n",
       "      <td>Yes</td>\n",
       "      <td>Private</td>\n",
       "      <td>Urban</td>\n",
       "      <td>smokes</td>\n",
       "      <td>1</td>\n",
       "      <td>Adult</td>\n",
       "      <td>Prediabetes</td>\n",
       "      <td>Obesity</td>\n",
       "    </tr>\n",
       "    <tr>\n",
       "      <th>4</th>\n",
       "      <td>Female</td>\n",
       "      <td>1</td>\n",
       "      <td>0</td>\n",
       "      <td>Yes</td>\n",
       "      <td>Self-employed</td>\n",
       "      <td>Rural</td>\n",
       "      <td>never smoked</td>\n",
       "      <td>1</td>\n",
       "      <td>Elder</td>\n",
       "      <td>Prediabetes</td>\n",
       "      <td>Healthy Weight</td>\n",
       "    </tr>\n",
       "    <tr>\n",
       "      <th>5</th>\n",
       "      <td>Male</td>\n",
       "      <td>0</td>\n",
       "      <td>0</td>\n",
       "      <td>Yes</td>\n",
       "      <td>Private</td>\n",
       "      <td>Urban</td>\n",
       "      <td>formerly smoked</td>\n",
       "      <td>1</td>\n",
       "      <td>Elder</td>\n",
       "      <td>Prediabetes</td>\n",
       "      <td>Overweight</td>\n",
       "    </tr>\n",
       "  </tbody>\n",
       "</table>\n",
       "</div>"
      ],
      "text/plain": [
       "   gender  hypertension  heart_disease ever_married      work_type  \\\n",
       "0    Male             0              1          Yes        Private   \n",
       "2    Male             0              1          Yes        Private   \n",
       "3  Female             0              0          Yes        Private   \n",
       "4  Female             1              0          Yes  Self-employed   \n",
       "5    Male             0              0          Yes        Private   \n",
       "\n",
       "  Residence_type   smoking_status  stroke age_cat avg_glucose_level_cat  \\\n",
       "0          Urban  formerly smoked       1   Elder              Diabetes   \n",
       "2          Rural     never smoked       1   Elder                Normal   \n",
       "3          Urban           smokes       1   Adult           Prediabetes   \n",
       "4          Rural     never smoked       1   Elder           Prediabetes   \n",
       "5          Urban  formerly smoked       1   Elder           Prediabetes   \n",
       "\n",
       "          bmi_cat  \n",
       "0         Obesity  \n",
       "2         Obesity  \n",
       "3         Obesity  \n",
       "4  Healthy Weight  \n",
       "5      Overweight  "
      ]
     },
     "execution_count": 22,
     "metadata": {},
     "output_type": "execute_result"
    }
   ],
   "source": [
    "data = data.drop('id', axis=1)\n",
    "data = data.drop('age', axis=1)\n",
    "data = data.drop('avg_glucose_level', axis=1)\n",
    "data = data.drop('bmi', axis=1)\n",
    "data.head()"
   ]
  },
  {
   "cell_type": "markdown",
   "metadata": {},
   "source": [
    "#### Extra: Encode string values into numbers\n",
    "* We dont want to use string in final models, change strings to corresponding integers\n",
    "* encode only once (since we delete extra col, it results in error without the if)"
   ]
  },
  {
   "cell_type": "code",
   "execution_count": 23,
   "metadata": {},
   "outputs": [],
   "source": [
    "if 'gender' in data.columns: # run only once\n",
    "    le = LabelEncoder()\n",
    "    data['gender_encoded'] = le.fit_transform(data['gender'])\n",
    "    del data['gender']\n",
    "    data['married_encoded'] = le.fit_transform(data['ever_married'])\n",
    "    del data['ever_married']\n",
    "    data['worktype_encoded'] = le.fit_transform(data['work_type'])\n",
    "    del data['work_type']\n",
    "    data['residence_encoded'] = le.fit_transform(data['Residence_type'])\n",
    "    del data['Residence_type']\n",
    "    data['smoker_encoded'] = le.fit_transform(data['smoking_status'])\n",
    "    del data['smoking_status']\n",
    "    \n",
    "    data['age_encoded'] = le.fit_transform(data['age_cat'])\n",
    "    del data['age_cat']\n",
    "    data['avg_glucose_level_encoded'] = le.fit_transform(data['avg_glucose_level_cat'])\n",
    "    del data['avg_glucose_level_cat']\n",
    "    data['bmi_encoded'] = le.fit_transform(data['bmi_cat'])\n",
    "    del data['bmi_cat']\n",
    "    data.to_csv('data_preprocessed.csv') #save final preprocessed data\\"
   ]
  },
  {
   "cell_type": "markdown",
   "metadata": {},
   "source": [
    "## OVERSAMPLING"
   ]
  },
  {
   "cell_type": "code",
   "execution_count": 24,
   "metadata": {},
   "outputs": [
    {
     "name": "stdout",
     "output_type": "stream",
     "text": [
      "Defaulting to user installation because normal site-packages is not writeable\n",
      "Requirement already satisfied: imbalanced-learn in c:\\users\\lukas\\appdata\\roaming\\python\\python310\\site-packages (0.9.1)\n",
      "Requirement already satisfied: threadpoolctl>=2.0.0 in c:\\users\\lukas\\appdata\\roaming\\python\\python310\\site-packages (from imbalanced-learn) (3.1.0)\n",
      "Requirement already satisfied: joblib>=1.0.0 in c:\\users\\lukas\\appdata\\roaming\\python\\python310\\site-packages (from imbalanced-learn) (1.1.0)\n",
      "Requirement already satisfied: scipy>=1.3.2 in c:\\users\\lukas\\appdata\\roaming\\python\\python310\\site-packages (from imbalanced-learn) (1.8.0)\n",
      "Requirement already satisfied: scikit-learn>=1.1.0 in c:\\users\\lukas\\appdata\\roaming\\python\\python310\\site-packages (from imbalanced-learn) (1.1.3)\n",
      "Requirement already satisfied: numpy>=1.17.3 in c:\\users\\lukas\\appdata\\roaming\\python\\python310\\site-packages (from imbalanced-learn) (1.22.3)\n"
     ]
    },
    {
     "name": "stderr",
     "output_type": "stream",
     "text": [
      "WARNING: Ignoring invalid distribution -ip (c:\\users\\lukas\\appdata\\roaming\\python\\python310\\site-packages)\n",
      "WARNING: Ignoring invalid distribution -ip (c:\\users\\lukas\\appdata\\roaming\\python\\python310\\site-packages)\n",
      "WARNING: Ignoring invalid distribution -ip (c:\\users\\lukas\\appdata\\roaming\\python\\python310\\site-packages)\n",
      "WARNING: Ignoring invalid distribution -ip (c:\\users\\lukas\\appdata\\roaming\\python\\python310\\site-packages)\n",
      "WARNING: Ignoring invalid distribution -ip (c:\\users\\lukas\\appdata\\roaming\\python\\python310\\site-packages)\n",
      "WARNING: Ignoring invalid distribution -ip (c:\\users\\lukas\\appdata\\roaming\\python\\python310\\site-packages)\n",
      "\n",
      "[notice] A new release of pip available: 22.2.2 -> 22.3.1\n",
      "[notice] To update, run: python.exe -m pip install --upgrade pip\n"
     ]
    },
    {
     "data": {
      "text/plain": [
       "<AxesSubplot:>"
      ]
     },
     "execution_count": 24,
     "metadata": {},
     "output_type": "execute_result"
    },
    {
     "data": {
      "image/png": "[encoded data removed]",
      "text/plain": [
       "<Figure size 432x288 with 1 Axes>"
      ]
     },
     "metadata": {},
     "output_type": "display_data"
    }
   ],
   "source": [
    "# RANDOM OVERSAMPLING\n",
    "!pip install imbalanced-learn\n",
    "from imblearn import over_sampling\n",
    "from imblearn.over_sampling import ADASYN\n",
    "ada = ADASYN()\n",
    "sample_size = data[\"stroke\"].value_counts()[1]\n",
    "\n",
    "X_resampled, y_resampled = ada.fit_resample(data.iloc[:,0:sample_size], data['stroke'])\n",
    "data = pd.concat([pd.DataFrame(X_resampled)], axis=1)\n",
    "#data_oversampled.drop(data_oversampled.columns[len(data_oversampled.columns)-1], axis=1, inplace=True)\n",
    "data.to_csv('data_oversampled.csv') #save final preprocessed data\\\n",
    "data.stroke.value_counts().plot.bar(rot = 0)"
   ]
  },
  {
   "cell_type": "markdown",
   "metadata": {},
   "source": [
    "## Modelování"
   ]
  },
  {
   "cell_type": "markdown",
   "metadata": {},
   "source": [
    "### Oddělení cílové proměnné od zbytku datasetu"
   ]
  },
  {
   "cell_type": "code",
   "execution_count": 25,
   "metadata": {},
   "outputs": [
    {
     "name": "stdout",
     "output_type": "stream",
     "text": [
      "      hypertension  heart_disease  gender_encoded  married_encoded  \\\n",
      "0                0              1               1                1   \n",
      "1                0              1               1                1   \n",
      "2                0              0               0                1   \n",
      "3                1              0               0                1   \n",
      "4                0              0               1                1   \n",
      "...            ...            ...             ...              ...   \n",
      "9389             0              0               0                1   \n",
      "9390             0              0               0                1   \n",
      "9391             0              0               0                1   \n",
      "9392             0              0               0                1   \n",
      "9393             0              0               0                1   \n",
      "\n",
      "      worktype_encoded  residence_encoded  smoker_encoded  age_encoded  \\\n",
      "0                    2                  1               1            2   \n",
      "1                    2                  0               2            2   \n",
      "2                    2                  1               3            0   \n",
      "3                    3                  0               2            2   \n",
      "4                    2                  1               1            2   \n",
      "...                ...                ...             ...          ...   \n",
      "9389                 2                  0               0            2   \n",
      "9390                 2                  0               0            2   \n",
      "9391                 2                  0               0            2   \n",
      "9392                 2                  0               0            2   \n",
      "9393                 2                  0               0            2   \n",
      "\n",
      "      avg_glucose_level_encoded  bmi_encoded  \n",
      "0                             0            1  \n",
      "1                             1            1  \n",
      "2                             2            1  \n",
      "3                             2            0  \n",
      "4                             2            2  \n",
      "...                         ...          ...  \n",
      "9389                          1            0  \n",
      "9390                          1            0  \n",
      "9391                          1            0  \n",
      "9392                          1            0  \n",
      "9393                          1            0  \n",
      "\n",
      "[9394 rows x 10 columns]\n",
      "0       1\n",
      "1       1\n",
      "2       1\n",
      "3       1\n",
      "4       1\n",
      "       ..\n",
      "9389    1\n",
      "9390    1\n",
      "9391    1\n",
      "9392    1\n",
      "9393    1\n",
      "Name: stroke, Length: 9394, dtype: int64\n"
     ]
    }
   ],
   "source": [
    "X = data.drop('stroke', axis=1)\n",
    "y = data['stroke']\n",
    "X.head()\n",
    "y.head()\n",
    "print(X)\n",
    "print(y)"
   ]
  },
  {
   "cell_type": "markdown",
   "metadata": {},
   "source": [
    "### Rozdělení na trénovací a testovací data\n"
   ]
  },
  {
   "cell_type": "code",
   "execution_count": 26,
   "metadata": {},
   "outputs": [],
   "source": [
    "from sklearn.model_selection import train_test_split\n",
    "x = data[['age_encoded', 'avg_glucose_level_encoded','hypertension', 'heart_disease','bmi_encoded', 'gender_encoded', 'married_encoded','worktype_encoded','residence_encoded','smoker_encoded']]\n",
    "y = data['stroke']\n",
    "x_train, x_test, y_train, y_test = train_test_split(x, y, test_size=0.2, random_state=1)"
   ]
  },
  {
   "cell_type": "code",
   "execution_count": 27,
   "metadata": {},
   "outputs": [
    {
     "name": "stdout",
     "output_type": "stream",
     "text": [
      "(7515, 10) (1879, 10) (7515,) (1879,)\n"
     ]
    }
   ],
   "source": [
    "print(x_train.shape, x_test.shape, y_train.shape, y_test.shape)"
   ]
  },
  {
   "cell_type": "markdown",
   "metadata": {},
   "source": [
    "#### Standardizace nevyvážených dat"
   ]
  },
  {
   "cell_type": "code",
   "execution_count": 28,
   "metadata": {},
   "outputs": [],
   "source": [
    "\n",
    "sc = StandardScaler() # standardization of test and train set\n",
    "x_train = sc.fit_transform(x_train)\n",
    "x_test = sc.fit_transform(x_test)"
   ]
  },
  {
   "cell_type": "markdown",
   "metadata": {
    "tags": []
   },
   "source": [
    "#### Baseline\n",
    "* the most basic algorithm, where we find whether is more probable to have or not have stroke in trainign dataset\n",
    "* in the testing dataset, that everyone has or does not have a troke based on the first point\n",
    "* useful to check whether other algorithms are working\n",
    "* in this case the moct common scenario is NO STROKE"
   ]
  },
  {
   "cell_type": "code",
   "execution_count": 29,
   "metadata": {},
   "outputs": [],
   "source": [
    "# BASELINE\n",
    "y_prediction = np.zeros(len(x_test), dtype=int)\n",
    "accuracy = accuracy_score(y_test, y_prediction)"
   ]
  },
  {
   "cell_type": "markdown",
   "metadata": {},
   "source": [
    "#### KNN\n",
    "* implemented for 1-10 nearost neigbors\n",
    "* runs the algorithm 9 times in total and use the k-negbors with the best result"
   ]
  },
  {
   "cell_type": "code",
   "execution_count": 30,
   "metadata": {},
   "outputs": [],
   "source": [
    "# KNN\n",
    "best_accuracy = 0\n",
    "best_k = 0\n",
    "for k in range (1,10):\n",
    "    model1 = KNeighborsClassifier(k).fit(x_train, y_train) # serach for k closest neigbors\n",
    "    y_prediction1 = model1.predict(x_test)  # predict response\n",
    "    accuracy1 = max(best_accuracy, accuracy_score(y_test, y_prediction1))\n",
    "    if accuracy1 > best_accuracy: best_k = k\n",
    "    best_accuracy = accuracy1"
   ]
  },
  {
   "cell_type": "markdown",
   "metadata": {},
   "source": [
    " #### DECISION TREE"
   ]
  },
  {
   "cell_type": "code",
   "execution_count": 31,
   "metadata": {},
   "outputs": [],
   "source": [
    "# DECISION TREE\n",
    "decisiontree = DecisionTreeClassifier()  # Create models\n",
    "model2 = decisiontree.fit(x_train, y_train)\n",
    "y_prediction2 = model2.predict(x_test)  # predict response\n",
    "accuracy2 = accuracy_score(y_test, y_prediction2)"
   ]
  },
  {
   "cell_type": "markdown",
   "metadata": {},
   "source": [
    "#### SVM"
   ]
  },
  {
   "cell_type": "code",
   "execution_count": 32,
   "metadata": {},
   "outputs": [],
   "source": [
    "# SVM\n",
    "svmmodel = svm.SVC(kernel='linear', probability=True)  # Linear Kernel\n",
    "model3 = svmmodel.fit(x_train, y_train)\n",
    "y_prediction3 = model3.predict(x_test)  # predict response\n",
    "accuracy3 = accuracy_score(y_test, y_prediction3)"
   ]
  },
  {
   "cell_type": "markdown",
   "metadata": {},
   "source": [
    "#### LOGISTIC REGRESSION"
   ]
  },
  {
   "cell_type": "code",
   "execution_count": 33,
   "metadata": {},
   "outputs": [],
   "source": [
    "# LOGISTIC REGRESSION\n",
    "logisticregression = LogisticRegression()\n",
    "model4 = logisticregression.fit(x_train, y_train)\n",
    "y_prediction4 = model4.predict(x_test)  # predict response\n",
    "accuracy4 = accuracy_score(y_test, y_prediction4)"
   ]
  },
  {
   "cell_type": "markdown",
   "metadata": {},
   "source": [
    "## Results\n",
    "* Baseline: dummiest, other algorithms should be able to be more accure\n",
    "* KNN, Decision Tree, SVM, Logistic Regression\n",
    "\n",
    "Decision trees are working the worst in this scenario, the rest is giving as the same results as baseline, which shows how hard the task is. As the majority of results are \"no stroke\", the algorithm learns on his own that it is the best to say that everything is not a stroke."
   ]
  },
  {
   "cell_type": "markdown",
   "metadata": {},
   "source": [
    "#### Predictions table"
   ]
  },
  {
   "cell_type": "code",
   "execution_count": 34,
   "metadata": {},
   "outputs": [],
   "source": [
    "report = pd.DataFrame()\n",
    "report['Actual values'] = y_test\n",
    "report['Predicted values KNN'] = y_prediction1\n",
    "report['Predicted values Decision tree'] = y_prediction2\n",
    "report['Predicted values SVM'] = y_prediction3\n",
    "report['Predicted values Logistic Regression'] = y_prediction4\n",
    "data.to_csv('predictions.csv') #save our predictions into csv file"
   ]
  },
  {
   "cell_type": "markdown",
   "metadata": {},
   "source": [
    "#### Accuracies"
   ]
  },
  {
   "cell_type": "code",
   "execution_count": 35,
   "metadata": {
    "tags": []
   },
   "outputs": [
    {
     "name": "stdout",
     "output_type": "stream",
     "text": [
      "Baseline:  0.5045236828100054\n",
      "KNN:  0.8265034592868548 (for 3 closest neigbors)\n",
      "Decision Trees:  0.8424693986162852\n",
      "SVM : 0.6838744012772752\n",
      "Logistic Regression:  0.6971793507184673\n"
     ]
    }
   ],
   "source": [
    "print(\"Baseline: \",accuracy)\n",
    "print(\"KNN: \",accuracy1, \"(for \"+str(best_k)+\" closest neigbors)\")\n",
    "print(\"Decision Trees: \", accuracy2)\n",
    "print(\"SVM :\", accuracy3)\n",
    "print(\"Logistic Regression: \", accuracy4)"
   ]
  },
  {
   "cell_type": "markdown",
   "metadata": {},
   "source": [
    "#### CONFUSION MATRIX"
   ]
  },
  {
   "cell_type": "code",
   "execution_count": 36,
   "metadata": {},
   "outputs": [
    {
     "data": {
      "image/png": "[encoded data removed]",
      "text/plain": [
       "<Figure size 720x504 with 8 Axes>"
      ]
     },
     "metadata": {},
     "output_type": "display_data"
    }
   ],
   "source": [
    "ConfusionMatrix1 = confusion_matrix(y_test, y_prediction1)\n",
    "ConfusionMatrix2 = confusion_matrix(y_test, y_prediction2)\n",
    "ConfusionMatrix3 = confusion_matrix(y_test, y_prediction3)\n",
    "ConfusionMatrix4 = confusion_matrix(y_test, y_prediction4)\n",
    "\n",
    "# KNN\n",
    "plt.subplots(2, 2, figsize=(10, 7))\n",
    "plt.suptitle('Confusion Matrix')\n",
    "plt.subplot(2, 2, 1)\n",
    "ax = sns.heatmap(ConfusionMatrix1, annot=True, cmap=\"YlGnBu\")\n",
    "plt.title(\"KNN\")\n",
    "ax.set_ylabel('Actual values')\n",
    "\n",
    "# DECISION TREE\n",
    "plt.subplot(2, 2, 2)\n",
    "ax = sns.heatmap(ConfusionMatrix2, annot=True, cmap=\"YlGnBu\")\n",
    "plt.title(\"Decision Tree\")\n",
    "ax.set_ylabel('Actual values')\n",
    "\n",
    "# SVM\n",
    "plt.subplot(2, 2, 3)\n",
    "ax = sns.heatmap(ConfusionMatrix3, annot=True, cmap=\"YlGnBu\")\n",
    "plt.title(\"SVM\")\n",
    "ax.set_xlabel('Predicted values')\n",
    "ax.set_ylabel('Actual values')\n",
    "\n",
    "# LOGISTIC REGRESSION\n",
    "plt.subplot(2, 2, 4)\n",
    "ax = sns.heatmap(ConfusionMatrix4, annot=True, cmap=\"YlGnBu\")\n",
    "plt.title(\"Logistic Regression\")\n",
    "ax.set_xlabel('Predicted values')\n",
    "ax.set_ylabel('Actual values')\n",
    "plt.savefig('Confusion Matrix.pdf')"
   ]
  },
  {
   "cell_type": "markdown",
   "metadata": {},
   "source": [
    "#### ROS CURVE"
   ]
  },
  {
   "cell_type": "code",
   "execution_count": 37,
   "metadata": {},
   "outputs": [
    {
     "data": {
      "image/png": "[encoded data removed]",
      "text/plain": [
       "<Figure size 720x504 with 4 Axes>"
      ]
     },
     "metadata": {},
     "output_type": "display_data"
    }
   ],
   "source": [
    "    plt.subplots(2, 2, figsize=(10, 7))\n",
    "    plt.suptitle('ROC Curve')\n",
    "    plt.subplot(2, 2, 1)\n",
    "    train_probs1 = model1.predict_proba(x_train)\n",
    "    train_probs1 = train_probs1[:, 1]\n",
    "    fpr1_train, tpr1_train, _ = roc_curve(y_train, train_probs1)  # pos_label=1\n",
    "    test_probs1 = model1.predict_proba(x_test)\n",
    "    test_probs1 = test_probs1[:, 1]\n",
    "    fpr1_test, tpr1_test, _ = roc_curve(y_test, test_probs1)  # pos_label=1\n",
    "    plt.plot(fpr1_train, tpr1_train, marker='.', label='train')\n",
    "    plt.plot(fpr1_test, tpr1_test, marker='.', label='validation')\n",
    "    plt.title('KNN')\n",
    "    plt.ylabel('True Positive Rate')\n",
    "    plt.legend()\n",
    "\n",
    "    # ROC CURVE DECISION TREE\n",
    "    plt.subplot(2, 2, 2)\n",
    "    train_probs2 = model2.predict_proba(x_train)\n",
    "    train_probs2 = train_probs2[:, 1]\n",
    "    fpr2_train, tpr2_train, _ = roc_curve(y_train, train_probs2)  # pos_label=1\n",
    "    test_probs2 = model2.predict_proba(x_test)\n",
    "    test_probs2 = test_probs2[:, 1]\n",
    "    fpr2_test, tpr2_test, _ = roc_curve(y_test, test_probs2)  # pos_label=1\n",
    "    plt.plot(fpr2_train, tpr2_train, marker='.', label='train')\n",
    "    plt.plot(fpr2_test, tpr2_test, marker='.', label='validation')\n",
    "    plt.title('Decision Tree')\n",
    "    plt.ylabel('True Positive Rate')\n",
    "    plt.legend()\n",
    "\n",
    "    # ROC CURVE MODEL SVM\n",
    "    plt.subplot(2, 2, 3)\n",
    "    train_probs3 = model3.predict_proba(x_train)\n",
    "    train_probs3 = train_probs3[:, 1]\n",
    "    fpr3_train, tpr3_train, _ = roc_curve(y_train, train_probs3)  # pos_label=1\n",
    "    test_probs3 = model3.predict_proba(x_test)\n",
    "    test_probs3 = test_probs3[:, 1]\n",
    "    fpr3_test, tpr3_test, _ = roc_curve(y_test, test_probs3)  # pos_label=1\n",
    "    plt.plot(fpr3_train, tpr3_train, marker='.', label='train')\n",
    "    plt.plot(fpr3_test, tpr3_test, marker='.', label='validation')\n",
    "    plt.title('SVM')\n",
    "    plt.xlabel('False Positive Rate')\n",
    "    plt.ylabel('True Positive Rate')\n",
    "    plt.legend()\n",
    "\n",
    "    # ROC CURVE LOGISTIC REGRESSION\n",
    "    plt.subplot(2, 2, 4)\n",
    "    train_probs4 = model4.predict_proba(x_train)\n",
    "    train_probs4 = train_probs4[:, 1]\n",
    "    fpr4_train, tpr4_train, _ = roc_curve(y_train, train_probs4)  # pos_label=1\n",
    "    test_probs4 = model4.predict_proba(x_test)\n",
    "    test_probs4 = test_probs4[:, 1]\n",
    "    fpr4_test, tpr4_test, _ = roc_curve(y_test, test_probs4)  # pos_label=1\n",
    "    plt.plot(fpr4_train, tpr4_train, marker='.', label='train')\n",
    "    plt.plot(fpr4_test, tpr4_test, marker='.', label='validation')\n",
    "    plt.title('Logistic Regression')\n",
    "    plt.xlabel('False Positive Rate')\n",
    "    plt.ylabel('True Positive Rate')\n",
    "    plt.legend()\n",
    "    plt.savefig('ROC Curve.pdf')"
   ]
  },
  {
   "cell_type": "code",
   "execution_count": null,
   "metadata": {},
   "outputs": [],
   "source": []
  }
 ],
 "metadata": {
  "kernelspec": {
   "display_name": "Julia 1.8.0",
   "language": "julia",
   "name": "julia-1.8"
  },
  "language_info": {
   "file_extension": ".jl",
   "mimetype": "application/julia",
   "name": "julia",
   "version": "1.8.0"
  },
  "vscode": {
   "interpreter": {
    "hash": "b0fa6594d8f4cbf19f97940f81e996739fb7646882a419484c72d19e05852a7e"
   }
  }
 },
 "nbformat": 4,
 "nbformat_minor": 4
}
